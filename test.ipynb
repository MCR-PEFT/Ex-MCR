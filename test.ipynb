{
 "cells": [
  {
   "cell_type": "code",
   "execution_count": 1,
   "metadata": {},
   "outputs": [
    {
     "name": "stdout",
     "output_type": "stream",
     "text": [
      "Jupyter environment detected. Enabling Open3D WebVisualizer.\n",
      "[Open3D INFO] WebRTC GUI backend enabled.\n",
      "[Open3D INFO] WebRTCWindowSystem: HTTP handshake server disabled.\n"
     ]
    }
   ],
   "source": [
    "from exmcr.exmcr_model import Ex_MCR\n",
    "from exmcr.exmcr_model import ModalityType, MCRType"
   ]
  },
  {
   "cell_type": "code",
   "execution_count": 2,
   "metadata": {},
   "outputs": [
    {
     "name": "stderr",
     "output_type": "stream",
     "text": [
      "usage: ULIP training and evaluation [-h] [--output-dir OUTPUT_DIR]\n",
      "                                    [--pretrain_dataset_name PRETRAIN_DATASET_NAME]\n",
      "                                    [--pretrain_dataset_prompt PRETRAIN_DATASET_PROMPT]\n",
      "                                    [--validate_dataset_name VALIDATE_DATASET_NAME]\n",
      "                                    [--validate_dataset_prompt VALIDATE_DATASET_PROMPT]\n",
      "                                    [--use_height] [--npoints NPOINTS]\n",
      "                                    [--model MODEL] [--epochs EPOCHS]\n",
      "                                    [--warmup-epochs WARMUP_EPOCHS]\n",
      "                                    [--start-epoch START_EPOCH]\n",
      "                                    [--batch-size BATCH_SIZE] [--lr LR]\n",
      "                                    [--lr-start LR_START] [--lr-end LR_END]\n",
      "                                    [--update-freq UPDATE_FREQ] [--wd WD]\n",
      "                                    [--betas BETAS BETAS] [--eps EPS]\n",
      "                                    [--eval-freq EVAL_FREQ] [--disable-amp]\n",
      "                                    [--resume RESUME]\n",
      "                                    [--print-freq PRINT_FREQ] [-j N]\n",
      "                                    [--evaluate_3d EVALUATE_3D]\n",
      "                                    [--world-size WORLD_SIZE] [--rank RANK]\n",
      "                                    [--local_rank LOCAL_RANK]\n",
      "                                    [--dist-url DIST_URL]\n",
      "                                    [--dist-backend DIST_BACKEND]\n",
      "                                    [--seed SEED] [--gpu GPU] [--wandb]\n",
      "                                    [--test_ckpt_addr TEST_CKPT_ADDR]\n",
      "                                    [--part PART]\n",
      "ULIP training and evaluation: error: unrecognized arguments: --ip=127.0.0.1 --stdin=9003 --control=9001 --hb=9000 --Session.signature_scheme=\"hmac-sha256\" --Session.key=b\"76bd49a0-a700-43ad-84dc-a339e5be5390\" --shell=9002 --transport=\"tcp\" --iopub=9004 --f=/home/wangzehan/.local/share/jupyter/runtime/kernel-v2-3152708PZ22Ww3xx5Ab.json\n"
     ]
    },
    {
     "ename": "SystemExit",
     "evalue": "2",
     "output_type": "error",
     "traceback": [
      "An exception has occurred, use %tb to see the full traceback.\n",
      "\u001b[0;31mSystemExit\u001b[0m\u001b[0;31m:\u001b[0m 2\n"
     ]
    },
    {
     "name": "stderr",
     "output_type": "stream",
     "text": [
      "/home/wangzehan/anaconda3/envs/sg3d/lib/python3.8/site-packages/IPython/core/interactiveshell.py:3513: UserWarning: To exit: use 'exit', 'quit', or Ctrl-D.\n",
      "  warn(\"To exit: use 'exit', 'quit', or Ctrl-D.\", stacklevel=1)\n"
     ]
    }
   ],
   "source": [
    "input = {ModalityType.VISION: ['assets/c8b68cf87c994eeb99e8bbcc5ce84c4e.jpeg',\n",
    "                               'assets/b21b9753332d4e46a3deee2b0151bd8e.jpeg',\n",
    "                               'assets/09d718c9cf72401b8534d265a06a803f.jpeg'],\n",
    "         ModalityType.TEXT:['Someone is using the toilet.',\n",
    "                            'The dog snarled at us.',\n",
    "                            'I inched the car forward.'],\n",
    "         ModalityType.AUDIO:['assets/AagLJkfrFMk.wav',\n",
    "                             'assets/0yxEvdnimGg.wav',\n",
    "                             'assets/13CBvjHZhOA.wav'],\n",
    "         ModalityType.PC:['assets/b3d1ab7790954d18a46ad83c8c0c3594.npy',\n",
    "                          'assets/78d6a35f0ecf4cf69ae9271f28f5f137.npy',\n",
    "                          'assets/f508446c4351422ca99ef836427f1407.npy']\n",
    "         }\n",
    "\n",
    "model = Ex_MCR(device='cuda:3')"
   ]
  },
  {
   "cell_type": "code",
   "execution_count": null,
   "metadata": {},
   "outputs": [],
   "source": []
  }
 ],
 "metadata": {
  "kernelspec": {
   "display_name": "sg3d",
   "language": "python",
   "name": "sg3d"
  },
  "language_info": {
   "codemirror_mode": {
    "name": "ipython",
    "version": 3
   },
   "file_extension": ".py",
   "mimetype": "text/x-python",
   "name": "python",
   "nbconvert_exporter": "python",
   "pygments_lexer": "ipython3",
   "version": "3.8.16"
  }
 },
 "nbformat": 4,
 "nbformat_minor": 2
}
